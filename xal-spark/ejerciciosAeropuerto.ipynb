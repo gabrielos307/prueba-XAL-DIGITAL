{
 "cells": [
  {
   "cell_type": "code",
   "execution_count": 53,
   "metadata": {},
   "outputs": [],
   "source": [
    "import findspark\n",
    "\n",
    "\n",
    "from pyspark.sql import SparkSession\n",
    "spark = SparkSession.builder.getOrCreate()"
   ]
  },
  {
   "cell_type": "code",
   "execution_count": 54,
   "metadata": {},
   "outputs": [],
   "source": [
    "## Importar los csv airportList.csv y airportsLocation.csv\n",
    "df_list=spark.read.csv(\"airportList.csv\",inferSchema=True, header=True)\n",
    "df_loc=spark.read.csv(\"airportsLocation.csv\",inferSchema=True, header=True)"
   ]
  },
  {
   "cell_type": "code",
   "execution_count": 55,
   "metadata": {},
   "outputs": [],
   "source": [
    "#Limpiar dataframe\n",
    "df_list = df_list.dropna(subset=\"airport_code\")\n",
    "df_loc = df_loc.dropna(subset=\"airport_code\")"
   ]
  },
  {
   "cell_type": "code",
   "execution_count": 56,
   "metadata": {},
   "outputs": [
    {
     "name": "stdout",
     "output_type": "stream",
     "text": [
      "root\n",
      " |-- airport_code: string (nullable = true)\n",
      " |-- airport_id: integer (nullable = true)\n",
      " |-- airport_name: string (nullable = true)\n",
      " |-- city_airport_location: string (nullable = true)\n",
      " |-- country: string (nullable = true)\n",
      " |-- latitude: double (nullable = true)\n",
      " |-- longitude: double (nullable = true)\n",
      " |-- altitude: integer (nullable = true)\n",
      " |-- timezone: double (nullable = true)\n",
      " |-- dst: string (nullable = true)\n",
      " |-- olson_timezone: string (nullable = true)\n",
      "\n"
     ]
    }
   ],
   "source": [
    "#Ejercicio 1\n",
    "#UNION de dataframes con base a su airport_code\n",
    "df_inner = df_list_c.join(df_loc, [\"airport_code\"])\n",
    "df_inner.printSchema()"
   ]
  },
  {
   "cell_type": "code",
   "execution_count": 57,
   "metadata": {},
   "outputs": [],
   "source": [
    "#QUitar columnas innecesarias\n",
    "df_inner = df_inner.drop(\"olson_timezone\", \"dst\", \"timezone\")"
   ]
  },
  {
   "cell_type": "code",
   "execution_count": 58,
   "metadata": {},
   "outputs": [
    {
     "name": "stdout",
     "output_type": "stream",
     "text": [
      "Hay 2252 aeropuertos involucrados en el caso. \n",
      "Con la siguiente informacion:\n",
      "+------------+----------+--------------------+---------------------+---------+---------+----------+--------+\n",
      "|airport_code|airport_id|        airport_name|city_airport_location|  country| latitude| longitude|altitude|\n",
      "+------------+----------+--------------------+---------------------+---------+---------+----------+--------+\n",
      "|         UAK|         7|          Narsarsuaq|         Narssarssuaq|Greenland|61.160517|-45.425978|     112|\n",
      "|         GOH|         8|                Nuuk|             Godthaab|Greenland|64.190922|-51.678064|     283|\n",
      "|         SFJ|         9|   Sondre Stromfjord|          Sondrestrom|Greenland|67.016969|-50.689325|     165|\n",
      "|         THU|        10|      Thule Air Base|                Thule|Greenland|76.531203|-68.703161|     251|\n",
      "|         AEY|        11|            Akureyri|             Akureyri|  Iceland|65.659994|-18.072703|       6|\n",
      "|         EGS|        12|         Egilsstadir|          Egilsstadir|  Iceland|65.283333|-14.401389|      76|\n",
      "|         HFN|        13|        Hornafjordur|                 Hofn|  Iceland|64.295556|-15.227222|      24|\n",
      "|         HZK|        14|             Husavik|              Husavik|  Iceland|65.952328|-17.425978|      48|\n",
      "|         IFJ|        15|          Isafjordur|           Isafjordur|  Iceland|66.058056|-23.135278|       8|\n",
      "|         KEF|        16|Keflavik Internat...|             Keflavik|  Iceland|   63.985|-22.605556|     171|\n",
      "|         PFJ|        17|      Patreksfjordur|       Patreksfjordur|  Iceland|65.555833|   -23.965|      11|\n",
      "|         RKV|        18|           Reykjavik|            Reykjavik|  Iceland|    64.13|-21.940556|      48|\n",
      "|         SIJ|        19|        Siglufjordur|         Siglufjordur|  Iceland|66.133333|-18.916667|      10|\n",
      "|         VEY|        20|      Vestmannaeyjar|       Vestmannaeyjar|  Iceland|63.424303|-20.278875|     326|\n",
      "|         YAM|        21|     Sault Ste Marie|   Sault Sainte Marie|   Canada|46.485001|-84.509445|     630|\n",
      "|         YAV|        22| Winnipeg St Andrews|             Winnipeg|   Canada|50.056389|  -97.0325|     760|\n",
      "|         YAW|        23|          Shearwater|              Halifax|   Canada|44.639721|-63.499444|     167|\n",
      "|         YAY|        24|          St Anthony|          St. Anthony|   Canada|51.391944|-56.083056|     108|\n",
      "|         YAZ|        25|              Tofino|               Tofino|   Canada|49.082222| -125.7725|      80|\n",
      "|         YBB|        26|            Kugaaruk|            Pelly Bay|   Canada|68.534444|-89.808056|      56|\n",
      "+------------+----------+--------------------+---------------------+---------+---------+----------+--------+\n",
      "only showing top 20 rows\n",
      "\n"
     ]
    }
   ],
   "source": [
    "#filtrado con base a la latitud\n",
    "df_co = df_inner.filter(df_inner.latitude>=40)\n",
    "print(\"Hay \"+str(df_co.count()) + \" aeropuertos involucrados en el caso. \\nCon la siguiente informacion:\")\n",
    "\n",
    "df_inner.filter(df_inner.latitude>=40).show()"
   ]
  },
  {
   "cell_type": "code",
   "execution_count": 60,
   "metadata": {},
   "outputs": [
    {
     "name": "stdout",
     "output_type": "stream",
     "text": [
      "Existen  3987 aeropuertos donde pueden existir atentados\n",
      "Se lista la información: \n",
      "+----------+--------------------+---------------------+----------------+------------+\n",
      "|airport_id|        airport_name|city_airport_location|         country|airport_code|\n",
      "+----------+--------------------+---------------------+----------------+------------+\n",
      "|         1|              Goroka|               Goroka|Papua New Guinea|         GKA|\n",
      "|         3|         Mount Hagen|          Mount Hagen|Papua New Guinea|         HGU|\n",
      "|         5|Port Moresby Jack...|         Port Moresby|Papua New Guinea|         POM|\n",
      "|         7|          Narsarsuaq|         Narssarssuaq|       Greenland|         UAK|\n",
      "|         9|   Sondre Stromfjord|          Sondrestrom|       Greenland|         SFJ|\n",
      "|        11|            Akureyri|             Akureyri|         Iceland|         AEY|\n",
      "|        13|        Hornafjordur|                 Hofn|         Iceland|         HFN|\n",
      "|        15|          Isafjordur|           Isafjordur|         Iceland|         IFJ|\n",
      "|        17|      Patreksfjordur|       Patreksfjordur|         Iceland|         PFJ|\n",
      "|        19|        Siglufjordur|         Siglufjordur|         Iceland|         SIJ|\n",
      "|        21|     Sault Ste Marie|   Sault Sainte Marie|          Canada|         YAM|\n",
      "|        22| Winnipeg St Andrews|             Winnipeg|          Canada|         YAV|\n",
      "|        23|          Shearwater|              Halifax|          Canada|         YAW|\n",
      "|        24|          St Anthony|          St. Anthony|          Canada|         YAY|\n",
      "|        25|              Tofino|               Tofino|          Canada|         YAZ|\n",
      "|        26|            Kugaaruk|            Pelly Bay|          Canada|         YBB|\n",
      "|        27|         Baie Comeau|          Baie Comeau|          Canada|         YBC|\n",
      "|        28|          Bagotville|           Bagotville|          Canada|         YBG|\n",
      "|        29|          Baker Lake|           Baker Lake|          Canada|         YBK|\n",
      "|        30|      Campbell River|       Campbell River|          Canada|         YBL|\n",
      "+----------+--------------------+---------------------+----------------+------------+\n",
      "only showing top 20 rows\n",
      "\n"
     ]
    }
   ],
   "source": [
    "#Ejercicio 2\n",
    "df_filter = df_list.filter((df_list.country==\"United States\" ) |\n",
    "               (df_list.country==\"Mexico\") | \n",
    "               (df_list.country==\"Brazil\") |\n",
    "               (df_list.country==\"Canada\") |\n",
    "               (df_list.country==\"Japan\") |\n",
    "               (df_list.airport_id%2==1)\n",
    "               \n",
    "              )\n",
    "print(\"Existen \",df_filter.count(), \"aeropuertos donde pueden existir atentados\")\n",
    "print(\"Se lista la información: \")\n",
    "df_filter.show()"
   ]
  },
  {
   "cell_type": "code",
   "execution_count": null,
   "metadata": {},
   "outputs": [],
   "source": []
  }
 ],
 "metadata": {
  "interpreter": {
   "hash": "31f2aee4e71d21fbe5cf8b01ff0e069b9275f58929596ceb00d14d90e3e16cd6"
  },
  "kernelspec": {
   "display_name": "Python 3 (ipykernel)",
   "language": "python",
   "name": "python3"
  },
  "language_info": {
   "codemirror_mode": {
    "name": "ipython",
    "version": 3
   },
   "file_extension": ".py",
   "mimetype": "text/x-python",
   "name": "python",
   "nbconvert_exporter": "python",
   "pygments_lexer": "ipython3",
   "version": "3.8.9"
  }
 },
 "nbformat": 4,
 "nbformat_minor": 2
}
